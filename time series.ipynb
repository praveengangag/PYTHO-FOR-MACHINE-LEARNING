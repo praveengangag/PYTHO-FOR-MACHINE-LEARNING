{
  "nbformat": 4,
  "nbformat_minor": 0,
  "metadata": {
    "colab": {
      "provenance": []
    },
    "kernelspec": {
      "name": "python3",
      "display_name": "Python 3"
    },
    "language_info": {
      "name": "python"
    }
  },
  "cells": [
    {
      "cell_type": "code",
      "execution_count": null,
      "metadata": {
        "colab": {
          "base_uri": "https://localhost:8080/"
        },
        "id": "A1T6uRz1KT2n",
        "outputId": "0aa0f5f3-d95e-4d55-985d-77ae6be9f2e6"
      },
      "outputs": [
        {
          "output_type": "stream",
          "name": "stdout",
          "text": [
            "2024-04-25 02:52:40.546408\n"
          ]
        }
      ],
      "source": [
        "import datetime as dt\n",
        "cd=dt.datetime.now()\n",
        "print(cd)"
      ]
    },
    {
      "cell_type": "code",
      "source": [
        "res=cd.strftime(\"%y\")\n",
        "print(\"\\n Two_Digit year:\",res)"
      ],
      "metadata": {
        "colab": {
          "base_uri": "https://localhost:8080/"
        },
        "id": "IlgvXjV2Kzzh",
        "outputId": "655c555c-25f3-4d44-805f-3d1c91f44d0e"
      },
      "execution_count": null,
      "outputs": [
        {
          "output_type": "stream",
          "name": "stdout",
          "text": [
            "\n",
            " Two_Digit year: 24\n"
          ]
        }
      ]
    },
    {
      "cell_type": "code",
      "source": [
        "res1=cd.strftime(\"%y\")\n",
        "print(\"\\n Four_digit year:\",res1)\n",
        "res=cd.strftime(\"%m\")\n",
        "print(\"\\n Two_digit month[01,12]:\",res)\n",
        "res=cd.strftime(\"%m\")\n",
        "print(\"\\n Two_digit month[01,12]:\",res)\n",
        "res=cd.strftime(\"%b\")\n",
        "print(\"\\n Short version of month:\",res)\n",
        "res=cd.strftime(\"%B\")\n",
        "print(\"\\n Full name of the month:\",res)\n"
      ],
      "metadata": {
        "colab": {
          "base_uri": "https://localhost:8080/"
        },
        "id": "RtyqzOWgLcHn",
        "outputId": "2b8b41b9-21ee-49b6-9ea1-682ae3e0f44d"
      },
      "execution_count": null,
      "outputs": [
        {
          "output_type": "stream",
          "name": "stdout",
          "text": [
            "\n",
            " Four_digit year: 24\n",
            "\n",
            " Two_digit month[01,12]: 04\n",
            "\n",
            " Two_digit month[01,12]: 04\n",
            "\n",
            " Short version of month: Apr\n",
            "\n",
            " Full name of the month: April\n"
          ]
        }
      ]
    },
    {
      "cell_type": "code",
      "source": [
        "res=cd.strftime(\"%j\")\n",
        "print(\"\\n Days of the year:\",res)\n",
        "res=cd"
      ],
      "metadata": {
        "id": "jC4isGqzMnLN"
      },
      "execution_count": null,
      "outputs": []
    },
    {
      "cell_type": "code",
      "source": [],
      "metadata": {
        "id": "FfX13v7BLb_I"
      },
      "execution_count": null,
      "outputs": []
    }
  ]
}