{
  "nbformat": 4,
  "nbformat_minor": 0,
  "metadata": {
    "colab": {
      "provenance": []
    },
    "kernelspec": {
      "name": "python3",
      "display_name": "Python 3"
    },
    "language_info": {
      "name": "python"
    }
  },
  "cells": [
    {
      "cell_type": "code",
      "source": [
        "import pandas as pd\n",
        "data1=({\"name\":[\"sally\",\"Mary\",\"John\"],\"age\":[50,40,30]})\n",
        "data2=({\"qualified\":[True,False,False]})\n",
        "df1=pd.DataFrame(data1)\n",
        "df2=pd.DataFrame(data2)\n",
        "print(\"Original DataFrame 1:\\n\",df1)\n",
        "print(\"\\n Original DataFrame 2:\\n\",df2)\n"
      ],
      "metadata": {
        "colab": {
          "base_uri": "https://localhost:8080/"
        },
        "id": "SH1AXpjEkZT4",
        "outputId": "1e35a4f3-0439-4a08-d418-8fb68cdb187d"
      },
      "execution_count": 4,
      "outputs": [
        {
          "output_type": "stream",
          "name": "stdout",
          "text": [
            "Original DataFrame 1:\n",
            "     name  age\n",
            "0  sally   50\n",
            "1   Mary   40\n",
            "2   John   30\n",
            "\n",
            " Original DataFrame 2:\n",
            "    qualified\n",
            "0       True\n",
            "1      False\n",
            "2      False\n"
          ]
        }
      ]
    }
  ]
}