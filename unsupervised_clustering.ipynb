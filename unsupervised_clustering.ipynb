{
  "nbformat": 4,
  "nbformat_minor": 0,
  "metadata": {
    "colab": {
      "provenance": []
    },
    "kernelspec": {
      "name": "python3",
      "display_name": "Python 3"
    },
    "language_info": {
      "name": "python"
    }
  },
  "cells": [
    {
      "cell_type": "code",
      "execution_count": 16,
      "metadata": {
        "colab": {
          "base_uri": "https://localhost:8080/"
        },
        "id": "4lS7cuNOs0C2",
        "outputId": "ccd06b69-7ede-4521-b404-fa9bf96d61ec"
      },
      "outputs": [
        {
          "output_type": "stream",
          "name": "stdout",
          "text": [
            "Methods:\n",
            " ['DESCR', 'data', 'data_module', 'feature_names', 'filename', 'frame', 'target', 'target_names']\n",
            "\n",
            "Features:\n",
            " ['sepal length (cm)', 'sepal width (cm)', 'petal length (cm)', 'petal width (cm)']\n",
            "\n",
            "Targets:\n",
            " [0 0 0 0 0 0 0 0 0 0 0 0 0 0 0 0 0 0 0 0 0 0 0 0 0 0 0 0 0 0 0 0 0 0 0 0 0\n",
            " 0 0 0 0 0 0 0 0 0 0 0 0 0 1 1 1 1 1 1 1 1 1 1 1 1 1 1 1 1 1 1 1 1 1 1 1 1\n",
            " 1 1 1 1 1 1 1 1 1 1 1 1 1 1 1 1 1 1 1 1 1 1 1 1 1 1 2 2 2 2 2 2 2 2 2 2 2\n",
            " 2 2 2 2 2 2 2 2 2 2 2 2 2 2 2 2 2 2 2 2 2 2 2 2 2 2 2 2 2 2 2 2 2 2 2 2 2\n",
            " 2 2]\n",
            "\n",
            "Target names:\n",
            " ['setosa' 'versicolor' 'virginica']\n"
          ]
        }
      ],
      "source": [
        "# Importing Modules\n",
        "from sklearn import datasets\n",
        "import matplotlib.pyplot as plt\n",
        "#Loading dataset\n",
        "iris_df = datasets.load_iris()\n",
        "# Available methods on dataset\n",
        "print(\"Methods:\\n\",dir(iris_df))\n",
        "# Features\n",
        "print(\"\\nFeatures:\\n\",iris_df.feature_names)\n",
        "# Targets\n",
        "print(\"\\nTargets:\\n\", iris_df.target)\n",
        "#Target Names\n",
        "print(\"\\nTarget names:\\n\",iris_df.target_names)\n",
        "label = {0: 'red', 1: 'blue', 2: 'green'}"
      ]
    }
  ]
}