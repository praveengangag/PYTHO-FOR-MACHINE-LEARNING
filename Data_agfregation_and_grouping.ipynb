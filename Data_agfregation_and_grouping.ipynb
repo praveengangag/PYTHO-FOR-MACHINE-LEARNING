{
  "nbformat": 4,
  "nbformat_minor": 0,
  "metadata": {
    "colab": {
      "provenance": []
    },
    "kernelspec": {
      "name": "python3",
      "display_name": "Python 3"
    },
    "language_info": {
      "name": "python"
    }
  },
  "cells": [
    {
      "cell_type": "code",
      "execution_count": 2,
      "metadata": {
        "colab": {
          "base_uri": "https://localhost:8080/",
          "height": 1000
        },
        "id": "w42YKUw6msTx",
        "outputId": "9aaa9f12-466f-4d72-a8cb-346ea4700a60"
      },
      "outputs": [
        {
          "output_type": "stream",
          "name": "stdout",
          "text": [
            "\n",
            "Original DataFrame\n",
            "      A      B  C  D  E\n",
            "0  foo    one  3  0  4\n",
            "1  foo    two  2  0  2\n",
            "2  bar  three  4  0  0\n",
            "3  foo    two  2  4  1\n",
            "4  bar    two  4  0  1\n",
            "5  foo    one  2  2  0\n",
            "\n",
            "Original DataFrame\n",
            "      A      B  C  D  E\n",
            "0  foo    one  3  0  4\n",
            "1  foo    two  2  0  2\n",
            "2  bar  three  4  0  0\n",
            "3  foo    two  2  4  1\n",
            "4  bar    two  4  0  1\n",
            "5  foo    one  2  2  0\n",
            "\n",
            "Group by (multi-column): with one column sum\n",
            "      A      B  C\n",
            "0  bar  three  4\n",
            "1  bar    two  4\n",
            "2  foo    one  5\n",
            "3  foo    two  4\n",
            "\n",
            "Original DataFrame\n",
            "      A      B  C  D  E\n",
            "0  foo    one  3  0  4\n",
            "1  foo    two  2  0  2\n",
            "2  bar  three  4  0  0\n",
            "3  foo    two  2  4  1\n",
            "4  bar    two  4  0  1\n",
            "5  foo    one  2  2  0\n",
            "\n",
            "Group by (multi-column): with multi columns sum\n",
            "      A      B  C  D  E\n",
            "0  bar  three  4  0  0\n",
            "1  bar    two  4  0  1\n",
            "2  foo    one  5  2  4\n",
            "3  foo    two  4  4  3\n",
            "\n",
            "Original DataFrame\n",
            "      A      B  C  D  E\n",
            "0  foo    one  3  0  4\n",
            "1  foo    two  2  0  2\n",
            "2  bar  three  4  0  0\n",
            "3  foo    two  2  4  1\n",
            "4  bar    two  4  0  1\n",
            "5  foo    one  2  2  0\n",
            "\n",
            "Combined Groupby and Aggregate function\n",
            "      A      B  C\n",
            "0  bar  three  4\n",
            "1  bar    two  4\n",
            "2  foo    one  5\n",
            "3  foo    two  4\n"
          ]
        },
        {
          "output_type": "error",
          "ename": "NameError",
          "evalue": "name 'agg' is not defined",
          "traceback": [
            "\u001b[0;31m---------------------------------------------------------------------------\u001b[0m",
            "\u001b[0;31mNameError\u001b[0m                                 Traceback (most recent call last)",
            "\u001b[0;32m<ipython-input-2-11ef89bf7c62>\u001b[0m in \u001b[0;36m<cell line: 22>\u001b[0;34m()\u001b[0m\n\u001b[1;32m     20\u001b[0m \u001b[0mprint\u001b[0m\u001b[0;34m(\u001b[0m\u001b[0;34m\"\\nCombined Groupby and Aggregate function\\n\"\u001b[0m\u001b[0;34m,\u001b[0m\u001b[0mdf3\u001b[0m\u001b[0;34m)\u001b[0m\u001b[0;34m\u001b[0m\u001b[0;34m\u001b[0m\u001b[0m\n\u001b[1;32m     21\u001b[0m \u001b[0;31m#Combined Groupby and Aggregate function- separate column headings\u001b[0m\u001b[0;34m\u001b[0m\u001b[0;34m\u001b[0m\u001b[0m\n\u001b[0;32m---> 22\u001b[0;31m \u001b[0mdf4\u001b[0m\u001b[0;34m=\u001b[0m \u001b[0;34m(\u001b[0m\u001b[0mdf\u001b[0m\u001b[0;34m.\u001b[0m\u001b[0mgroupby\u001b[0m\u001b[0;34m(\u001b[0m\u001b[0;34m[\u001b[0m\u001b[0;34m'A'\u001b[0m\u001b[0;34m,\u001b[0m \u001b[0;34m'B'\u001b[0m\u001b[0;34m]\u001b[0m\u001b[0;34m)\u001b[0m\u001b[0;34m,\u001b[0m\u001b[0magg\u001b[0m\u001b[0;34m(\u001b[0m\u001b[0;34m[\u001b[0m\u001b[0;34m(\u001b[0m\u001b[0;34m'average'\u001b[0m\u001b[0;34m,\u001b[0m \u001b[0;34m'mean'\u001b[0m\u001b[0;34m)\u001b[0m\u001b[0;34m,\u001b[0m \u001b[0;34m(\u001b[0m\u001b[0;34m'total'\u001b[0m\u001b[0;34m,\u001b[0m \u001b[0;34m'sum'\u001b[0m\u001b[0;34m)\u001b[0m\u001b[0;34m]\u001b[0m\u001b[0;34m)\u001b[0m\u001b[0;34m)\u001b[0m\u001b[0;34m\u001b[0m\u001b[0;34m\u001b[0m\u001b[0m\n\u001b[0m\u001b[1;32m     23\u001b[0m \u001b[0mprint\u001b[0m\u001b[0;34m(\u001b[0m\u001b[0;34m\"\\nOriginal DataFrame\\n\"\u001b[0m\u001b[0;34m,\u001b[0m\u001b[0mdf\u001b[0m\u001b[0;34m)\u001b[0m\u001b[0;34m\u001b[0m\u001b[0;34m\u001b[0m\u001b[0m\n\u001b[1;32m     24\u001b[0m \u001b[0mprint\u001b[0m\u001b[0;34m(\u001b[0m\u001b[0;34m\"\\nCombined Groupby and Aggregate function- separate column headings\\n\"\u001b[0m\u001b[0;34m,\u001b[0m\u001b[0mdf4\u001b[0m\u001b[0;34m)\u001b[0m\u001b[0;34m\u001b[0m\u001b[0;34m\u001b[0m\u001b[0m\n",
            "\u001b[0;31mNameError\u001b[0m: name 'agg' is not defined"
          ]
        }
      ],
      "source": [
        "import pandas as pd\n",
        "import numpy as np\n",
        "df = pd.DataFrame({'A': ['foo', 'foo', 'bar', 'foo', 'bar', 'foo'],\n",
        "'B': ['one', 'two', 'three','two', 'two', 'one'],\n",
        "'C': np.random.randint(5, size=6),\n",
        "'D': np.random.randint(5, size=6),\n",
        "'E': np.random.randint(5, size=6)})\n",
        "print(\"\\nOriginal DataFrame\\n\",df)\n",
        "#Group by (multi-column): with one column sum\n",
        "df1 = df.groupby(['A', 'B'], as_index=False)['C'].sum()\n",
        "print(\"\\nOriginal DataFrame\\n\",df)\n",
        "print(\"\\nGroup by (multi-column): with one column sum\\n\",df1)\n",
        "#Group by (multi-column): with multi columns sum\n",
        "df2 = df.groupby(['A', 'B'], as_index=False).sum()\n",
        "print(\"\\nOriginal DataFrame\\n\",df)\n",
        "print(\"\\nGroup by (multi-column): with multi columns sum\\n\",df2)\n",
        "#Combined Groupby and Aggregate function\n",
        "df3= df.groupby(['A', 'B'], as_index=False)['C'].agg('sum')\n",
        "print(\"\\nOriginal DataFrame\\n\",df)\n",
        "print(\"\\nCombined Groupby and Aggregate function\\n\",df3)\n",
        "#Combined Groupby and Aggregate function- separate column headings\n",
        "df4= (df.groupby(['A', 'B']),agg([('average', 'mean'), ('total', 'sum')]))\n",
        "print(\"\\nOriginal DataFrame\\n\",df)\n",
        "print(\"\\nCombined Groupby and Aggregate function- separate column headings\\n\",df4)\n",
        "df5= df.groupby(['A', 'B'], as_index=False).sum()\n",
        "df6=(df.groupby(['A', 'B']).agg(['sum']))\n",
        "print(\"\\nOriginal DataFrame\\n\",df)\n",
        "print(\"\\nGroupby - sum function\\n\",df5)\n",
        "print(\"\\nGroupby and Aggregate - sum function\\n\",df6)\n"
      ]
    }
  ]
}